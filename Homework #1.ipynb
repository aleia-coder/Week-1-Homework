{
 "cells": [
  {
   "cell_type": "code",
   "execution_count": 1,
   "metadata": {},
   "outputs": [],
   "source": [
    "# you can get more information about an object or function inside of a Jupyter cell by \n",
    "help()\n",
    "dir()\n",
    "#shift + tab"
   ]
  },
  {
   "cell_type": "code",
   "execution_count": 2,
   "metadata": {
    "scrolled": true
   },
   "outputs": [
    {
     "data": {
      "text/plain": [
       "str"
      ]
     },
     "execution_count": 2,
     "metadata": {},
     "output_type": "execute_result"
    }
   ],
   "source": [
    "# you can determine the data type of an object by typing \"type\", along with the varible name in parenthesis\n",
    "x = \"Aleia\"\n",
    "type(x)"
   ]
  },
  {
   "cell_type": "code",
   "execution_count": 5,
   "metadata": {},
   "outputs": [],
   "source": [
    "# An assignment is where you have a variable, and you have an \"=\" right after it. \n",
    "#The \"=\" indicates that you're about to assign the variable to a value \n",
    "foo = \"bar\""
   ]
  },
  {
   "cell_type": "code",
   "execution_count": 6,
   "metadata": {},
   "outputs": [],
   "source": [
    "#Javascript objects are not included in Python, but what's similar is Python dictonaries"
   ]
  },
  {
   "cell_type": "code",
   "execution_count": 12,
   "metadata": {},
   "outputs": [
    {
     "name": "stdout",
     "output_type": "stream",
     "text": [
      "['Bananas', 'apples', 'oranges', 'grapes', 'blueberries', 'strawberries']\n"
     ]
    }
   ],
   "source": [
    "# If I had an assortment of items that I'd need to keep track of, then a structure that I'd put them in is a list. \n",
    "\n",
    "Grocery_list = ['Bananas', 'apples', 'oranges', 'grapes', 'blueberries', 'strawberries']\n",
    "print(Grocery_list)"
   ]
  },
  {
   "cell_type": "code",
   "execution_count": 114,
   "metadata": {},
   "outputs": [
    {
     "name": "stdout",
     "output_type": "stream",
     "text": [
      "[('worker_one', 'Synthia 4576984'), ('worker_two', 'Carlos 7834567'), ('worker_three', 'Monica 981234')]\n",
      "{'Monica 981-2345', 'Carlos 783-4567', 'Synthia 457-6984'}\n"
     ]
    }
   ],
   "source": [
    "# If I had an assortment of names and telephone numbers, then the data structure I would use would be a graph. *USE DICTIONARY*  \n",
    "\n",
    "graph = {\"worker_one\" : [\"Synthia 4576984\"],\n",
    "         \"worker_two\" : [\"Carlos 7834567\"],\n",
    "         \"worker_three\" : [\"Monica 981234\"]\n",
    "        }\n",
    "def define_edges(graph):\n",
    "    edges = [ ]\n",
    "    for vertices in graph: \n",
    "        for neighbor in graph[vertices]:\n",
    "            edges.append((vertices, neighbor))\n",
    "    return edges\n",
    "print(define_edges(graph))\n",
    "    \n",
    "     #OR in a dictonary\n",
    "    \n",
    "telephone_book = {\"Synthia 457-6984\", \"Carlos 783-4567\", \"Monica 981-2345\"}\n",
    "print(telephone_book)"
   ]
  },
  {
   "cell_type": "code",
   "execution_count": 41,
   "metadata": {},
   "outputs": [
    {
     "name": "stdout",
     "output_type": "stream",
     "text": [
      "[9, 2, 3]\n"
     ]
    }
   ],
   "source": [
    "# the following code is a bad idea because there's was no print function originally to display the list and when using list2[0], you're\n",
    "#removing an item from the list rather than altering/adding onto the list. It'll only change list one and not list 2.\n",
    "# list 2 points to list 1, it's not a copy. \n",
    "\n",
    "list1 = [1,2,3]\n",
    "list2 = list1\n",
    "list2[0] = 9\n",
    "print(list1)"
   ]
  },
  {
   "cell_type": "code",
   "execution_count": 45,
   "metadata": {},
   "outputs": [
    {
     "name": "stdout",
     "output_type": "stream",
     "text": [
      "True\n",
      "False\n"
     ]
    }
   ],
   "source": [
    "# A truthy is a value that is true and a falsy is a value that is false. \n",
    "x = 5 \n",
    "y = 4 \n",
    "z = x > y \n",
    "w = x < y\n",
    "print(z)\n",
    "print(w)"
   ]
  },
  {
   "cell_type": "code",
   "execution_count": 46,
   "metadata": {},
   "outputs": [],
   "source": [
    "# the difference between a dynamically and statically typed language is that a dynamically typed language \n",
    "# is a language where the type of data an object can store is mutable, or changeable. A statically type language is \n",
    "# a language where the type of data an object can store is NON mutable, or NONchangeable. Python is a \n",
    "# dynamically typed language. It's a good thing because it's faster development and iteration. some bugs won't be caught \n",
    "#unless the code runs. In statically typed languages, it'll tell you if your code is wrong\n",
    "#while you're typing it."
   ]
  },
  {
   "cell_type": "code",
   "execution_count": 76,
   "metadata": {},
   "outputs": [
    {
     "name": "stdout",
     "output_type": "stream",
     "text": [
      "[0, 2, 2, 2, 4, 4, 4, 5, 5, 5, 5, 6, 6, 6, 7, 8, 9, 9]\n",
      "['A', 'I', 'L', 'U', 'J']\n"
     ]
    }
   ],
   "source": [
    "# the two built in functions I'm going to use is the \"sort()\" function and the \"reverse()\" function. Examples below. \n",
    "\n",
    "list_num = [4,4,2,5,4,5,6,5,6,5,6,2,8,9,7,2,9,0]\n",
    "list_num.sort()\n",
    "print(list_num)\n",
    "\n",
    "list_name = ['J', 'U', 'L', 'I', 'A']\n",
    "list_name.reverse()\n",
    "print(list_name)\n"
   ]
  },
  {
   "cell_type": "code",
   "execution_count": 77,
   "metadata": {},
   "outputs": [],
   "source": [
    "# An operator that lets you know if something is odd or even is the remainder operator, % . Then use an if than statment \n"
   ]
  },
  {
   "cell_type": "code",
   "execution_count": 78,
   "metadata": {},
   "outputs": [],
   "source": [
    "# An operator is symbols that help us do math. * is for multiplication, + is for adding, - is for subtracting, \n",
    "# < and > is for greater than and less than, etc. They're all examples of operators. \n",
    "=, *, +, ==, <, >"
   ]
  },
  {
   "cell_type": "code",
   "execution_count": 79,
   "metadata": {},
   "outputs": [],
   "source": [
    "# A data type that is not used in python is, and python has a similiar data type that is \n",
    "\n",
    "# C sharp has a data type called short, which isn't used in Python. it's only 2 bytes, and it's values range from -32.760 to 32.760. \n",
    "# Python has something similar which are integers. "
   ]
  },
  {
   "cell_type": "code",
   "execution_count": 80,
   "metadata": {},
   "outputs": [],
   "source": [
    "# A python expression is a combination of values, variables, operators, and calls to functions.\n",
    "# Expressions need to be evaluated"
   ]
  },
  {
   "cell_type": "code",
   "execution_count": 84,
   "metadata": {},
   "outputs": [
    {
     "name": "stdout",
     "output_type": "stream",
     "text": [
      "Bar is greater than foo\n"
     ]
    }
   ],
   "source": [
    "foo = 23 \n",
    "bar = 48\n",
    "\n",
    "x = (foo > bar)\n",
    "y = (bar > foo)\n",
    "\n",
    "if x: \n",
    "    print(\"'Foo' is greater than bar\")\n",
    "else: print(\"Bar is greater than foo\")"
   ]
  },
  {
   "cell_type": "code",
   "execution_count": 85,
   "metadata": {},
   "outputs": [],
   "source": [
    "my_list = [1,2,3,4,5,6,7,8,9]\n",
    "for i in my_list: \n",
    "    \n",
    "    if (i % 2) == 0: \n",
    "        print(\"even\")\n",
    "        elif "
   ]
  },
  {
   "cell_type": "code",
   "execution_count": 86,
   "metadata": {},
   "outputs": [],
   "source": [
    "# the equal operator is used when assigning a varible to a value. Ex \n",
    "x = 400 "
   ]
  },
  {
   "cell_type": "code",
   "execution_count": 103,
   "metadata": {},
   "outputs": [
    {
     "name": "stdout",
     "output_type": "stream",
     "text": [
      "7 is greater than 5\n"
     ]
    }
   ],
   "source": [
    "# the less than equal operator is (<), used when you're trying to see which is lesser or greater than the other value. EX \n",
    "x = 5\n",
    "y = 7 \n",
    "if (x>=y): \n",
    "    print(\"5 is greater than 7\")\n",
    "else: print(\"7 is greater than 5\")\n",
    "    "
   ]
  },
  {
   "cell_type": "code",
   "execution_count": 88,
   "metadata": {},
   "outputs": [
    {
     "name": "stdout",
     "output_type": "stream",
     "text": [
      "0\n"
     ]
    }
   ],
   "source": [
    "# the modulo remainder operator is (%) used when returning the remainder after dividing. In this case,there is no remainder since\n",
    "# 7 goes into 14 perfectly. \n",
    "\n",
    "x = 14 \n",
    "y = 7 \n",
    "print(x%y)"
   ]
  },
  {
   "cell_type": "code",
   "execution_count": 104,
   "metadata": {},
   "outputs": [
    {
     "name": "stdout",
     "output_type": "stream",
     "text": [
      "8\n"
     ]
    }
   ],
   "source": [
    "# the floored division operator is (//) is nonreal division except it returns the largest remainder possible. \n",
    "\n",
    "print(44//5)\n"
   ]
  },
  {
   "cell_type": "code",
   "execution_count": 90,
   "metadata": {},
   "outputs": [],
   "source": [
    "#The assignment below is not a good idea because the word 'hex' is a built in function therefore it can't be used as a variable\n",
    "hex = \"some text value\""
   ]
  },
  {
   "cell_type": "code",
   "execution_count": 105,
   "metadata": {},
   "outputs": [],
   "source": [
    "#the following code shows an error because you cannot start a variable with a number \n",
    "\n",
    "#2cars = ('Ferarri', 'Mustang')\n",
    "cars2 = ('Ferarri', 'Mustang')"
   ]
  },
  {
   "cell_type": "code",
   "execution_count": null,
   "metadata": {},
   "outputs": [],
   "source": [
    "some_list = ['izz','buzz',1,{'key':'value'}]\n",
    "if some_list: \n",
    "    print(\"Horray!\")\n",
    "    \n",
    " # it evaluates to true because \"some_list:\" includes everything in the list.    "
   ]
  },
  {
   "cell_type": "code",
   "execution_count": 95,
   "metadata": {},
   "outputs": [
    {
     "name": "stdout",
     "output_type": "stream",
     "text": [
      "12\n"
     ]
    }
   ],
   "source": [
    "#An expression that adds two numbers \n",
    "x = 5 + 7 \n",
    "print(x)"
   ]
  },
  {
   "cell_type": "code",
   "execution_count": 96,
   "metadata": {},
   "outputs": [
    {
     "name": "stdout",
     "output_type": "stream",
     "text": [
      "3.0\n"
     ]
    }
   ],
   "source": [
    "#An expression that divides two numbers \n",
    "x = 15/5\n",
    "print(x)"
   ]
  },
  {
   "cell_type": "code",
   "execution_count": 98,
   "metadata": {},
   "outputs": [
    {
     "name": "stdout",
     "output_type": "stream",
     "text": [
      "125\n"
     ]
    }
   ],
   "source": [
    "#An expression that raises one number to the power of 3. x as the base, y as the power \n",
    "x = 5 \n",
    "y = 3 \n",
    "print(x**y)"
   ]
  },
  {
   "cell_type": "code",
   "execution_count": 99,
   "metadata": {},
   "outputs": [],
   "source": [
    "#The module that I'd use to create a report is .. \n",
    "import math "
   ]
  },
  {
   "cell_type": "code",
   "execution_count": 115,
   "metadata": {},
   "outputs": [
    {
     "name": "stdout",
     "output_type": "stream",
     "text": [
      "42\n"
     ]
    },
    {
     "data": {
      "text/plain": [
       "str"
      ]
     },
     "execution_count": 115,
     "metadata": {},
     "output_type": "execute_result"
    }
   ],
   "source": [
    "#The way I would change my_var from an int from a str is .. \n",
    "my_var = '42'\n",
    "print(my_var)\n",
    "type(my_var)"
   ]
  },
  {
   "cell_type": "code",
   "execution_count": 109,
   "metadata": {},
   "outputs": [
    {
     "data": {
      "text/plain": [
       "'lazy'"
      ]
     },
     "execution_count": 109,
     "metadata": {},
     "output_type": "execute_result"
    }
   ],
   "source": [
    "#Slice some_string to only include the word lazy \n",
    "#some_string = \"The quick brown fox jumped over the lazy dog.\"\n",
    "\n",
    "some_string = \"The quick brown fox jumped over the lazy dog.\"\n",
    "some_string[36:40]"
   ]
  },
  {
   "cell_type": "code",
   "execution_count": 112,
   "metadata": {},
   "outputs": [
    {
     "data": {
      "text/plain": [
       "['Chiefs', 'Cardinals', 'Blues']"
      ]
     },
     "execution_count": 112,
     "metadata": {},
     "output_type": "execute_result"
    }
   ],
   "source": [
    "my_favorite_teams = ['Chiefs', 'Cardinals', 'Blues', 'Lakers','Manchester United', 'Couch Surfing']\n",
    "my_favorite_teams[0:3]"
   ]
  },
  {
   "cell_type": "code",
   "execution_count": 113,
   "metadata": {},
   "outputs": [
    {
     "data": {
      "text/plain": [
       "'?em esrever uoy naC'"
      ]
     },
     "execution_count": 113,
     "metadata": {},
     "output_type": "execute_result"
    }
   ],
   "source": [
    "irreversable = \"Can you reverse me?\"\n",
    "irreversable[::-1]"
   ]
  },
  {
   "cell_type": "code",
   "execution_count": null,
   "metadata": {},
   "outputs": [],
   "source": []
  }
 ],
 "metadata": {
  "kernelspec": {
   "display_name": "Python 3",
   "language": "python",
   "name": "python3"
  },
  "language_info": {
   "codemirror_mode": {
    "name": "ipython",
    "version": 3
   },
   "file_extension": ".py",
   "mimetype": "text/x-python",
   "name": "python",
   "nbconvert_exporter": "python",
   "pygments_lexer": "ipython3",
   "version": "3.7.8"
  }
 },
 "nbformat": 4,
 "nbformat_minor": 4
}
